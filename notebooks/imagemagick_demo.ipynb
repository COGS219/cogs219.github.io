{
 "cells": [
  {
   "cell_type": "markdown",
   "metadata": {},
   "source": [
    "# ImageMagick in Python\n",
    "\n",
    "Before you start, make sure to download ImageMagick: https://imagemagick.org/index.php.\n",
    "\n",
    "The following code is just to demonstrate how you can use ImageMagick by executing shell commands through Python. This is especially useful if you'd like to e.g. loop through a lot of commands or images."
   ]
  },
  {
   "cell_type": "markdown",
   "metadata": {},
   "source": [
    "## Test out running an image magick command"
   ]
  },
  {
   "cell_type": "markdown",
   "metadata": {},
   "source": [
    "First, collect all of the original image files in a repository."
   ]
  },
  {
   "cell_type": "code",
   "execution_count": null,
   "metadata": {},
   "outputs": [],
   "source": [
    "import os\n",
    "\n",
    "cur_dir = os.getcwd()\n",
    "path_to_images = os.path.join(cur_dir,\"images\",\"image_magick\",\"original_images\")\n",
    "print(path_to_images)\n",
    "\n",
    "#get all of the files\n",
    "image_files = os.listdir(path_to_images)\n",
    "print(image_files)\n"
   ]
  },
  {
   "cell_type": "markdown",
   "metadata": {},
   "source": [
    "Now, execute the desired image magick command on all of the images you collected (e.g. using a for loop).\n",
    "\n",
    "Resize images:"
   ]
  },
  {
   "cell_type": "code",
   "execution_count": null,
   "metadata": {},
   "outputs": [],
   "source": [
    "#define a target path\n",
    "path_to_resized_images = os.path.join(cur_dir,\"images\",\"image_magick\",\"resized_images\")\n",
    "\n",
    "for image_name in image_files:\n",
    "    #full path to original image\n",
    "    old_image_path = os.path.join(path_to_images, image_name)\n",
    "    print(old_image_path)\n",
    "    new_image_path = os.path.join(path_to_resized_images,os.path.splitext(image_name)[0]) + '_resized.jpg'\n",
    "    print(new_image_path)\n",
    "    magick_command = 'magick '+old_image_path + ' -resize 25% '+ new_image_path\n",
    "    os.system(magick_command)"
   ]
  },
  {
   "cell_type": "markdown",
   "metadata": {},
   "source": [
    "Crop Images: Split the images down the middle (50% width, 100% height)"
   ]
  },
  {
   "cell_type": "code",
   "execution_count": null,
   "metadata": {},
   "outputs": [],
   "source": [
    "#define a target path\n",
    "path_to_cropped_images = os.path.join(cur_dir,\"images\",\"image_magick\",\"split_images\")\n",
    "\n",
    "for image_name in image_files:\n",
    "    #full path to original image\n",
    "    old_image_path = os.path.join(path_to_images, image_name)\n",
    "    print(old_image_path)\n",
    "    new_image_path = os.path.join(path_to_cropped_images,os.path.splitext(image_name)[0]) + '_split.jpg'\n",
    "    print(new_image_path)\n",
    "    magick_command = \"magick \"+old_image_path + \" -crop '50%x100%' \"+ new_image_path\n",
    "    os.system(magick_command)"
   ]
  }
 ],
 "metadata": {
  "kernelspec": {
   "display_name": "base",
   "language": "python",
   "name": "python3"
  },
  "language_info": {
   "codemirror_mode": {
    "name": "ipython",
    "version": 3
   },
   "file_extension": ".py",
   "mimetype": "text/x-python",
   "name": "python",
   "nbconvert_exporter": "python",
   "pygments_lexer": "ipython3",
   "version": "3.10.13"
  },
  "orig_nbformat": 4
 },
 "nbformat": 4,
 "nbformat_minor": 2
}
