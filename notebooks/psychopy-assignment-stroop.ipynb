{
 "cells": [
  {
   "cell_type": "markdown",
   "metadata": {},
   "source": [
    "# Psychopy Assignment: The stroop effect\n",
    "\n",
    "In this exercise we'll put some of what we've learned so far together into an simple experiment demonstrating the __[The Stroop Effect](https://en.wikipedia.org/wiki/Stroop_effect)__. We'll gradually build this codebase out into a full experiment."
   ]
  },
  {
   "cell_type": "code",
   "execution_count": null,
   "metadata": {
    "tags": [
     "remove-output",
     "toggle"
    ]
   },
   "outputs": [],
   "source": [
    "import time\n",
    "import sys\n",
    "import random\n",
    "from psychopy import visual,event,core,gui\n",
    "\n",
    "stimuli = ['red', 'orange', 'yellow', 'green', 'blue']\n",
    "\n",
    "win = visual.Window([800,600],color=\"gray\", units='pix',checkTiming=False)\n",
    "placeholder = visual.Rect(win,width=180,height=80, fillColor=\"lightgray\",lineColor=\"black\", lineWidth=6,pos=[0,0])\n",
    "word_stim = visual.TextStim(win,text=\"\", height=40, color=\"black\",pos=[0,0])\n",
    "instruction = visual.TextStim(win,text=\"Press the first letter of the ink color\", height=20, color=\"black\",pos=[0,-200])\n",
    "while True:\n",
    "    cur_stim = random.choice(stimuli)\n",
    "    word_stim.setText(cur_stim)\n",
    "    word_stim.setColor(cur_stim)\n",
    "    placeholder.draw()\n",
    "    instruction.draw()\n",
    "    word_stim.draw()\n",
    "    win.flip()\n",
    "    core.wait(1.0)\n",
    "    placeholder.draw()\n",
    "    instruction.draw()    \n",
    "    win.flip()\n",
    "    core.wait(.15)\n",
    "\n",
    "    if event.getKeys(['q']):\n",
    "        win.close()\n",
    "        core.quit()"
   ]
  },
  {
   "cell_type": "markdown",
   "metadata": {},
   "source": [
    "Once you've successfully run this code and understand what all the lines do, proceed to the following exercises."
   ]
  },
  {
   "cell_type": "markdown",
   "metadata": {},
   "source": [
    "## Psychopy Assignment Tasks\n",
    "\n",
    "1.  Create a fixation cross using a TextStim object `visual.TextStim` set text to \"+\" and color to \"black\" and height to 15. Make the fixation cross appear for 500 ms before each color word, and disappear right before the color word appears.\n",
    "\n",
    "2. Rather than cycling throught the colors, use `event.waitKeys()` to wait for a response (e.g., \"o\" for \"orange\").  Your script should only accept 'r', 'o', 'y', 'g', 'b' (the first letter of each color) and -- to make testing easier for you -- 'q' for quit. \n",
    "    ```{tip}\n",
    "    Make sure your code has just the functionality it needs, e.g., for part 2, you don't need `event.getKeys(['q'])`\n",
    "    ```\n",
    "3. Compute the reaction times -- the time it takes to respond from when the color word appears, to when the user presses a key, in milleconds (e.g., .8 secs should show up as 800). Store these in a list called `RTs`. ([Use psychopy timers](http://www.psychopy.org/api/core.html))\n",
    "    ```{tip}\n",
    "    Append each reaction time to the `RTs` list after every response\n",
    "    ```\n",
    "\n",
    "    Print the list to verify that the reaction times are correct (e.g., if you take approx 1 second to respond, is it recording 1000?). Your submitted code should have this print statement.\n",
    "\n",
    "4.  Now let's implement some feedback. If the user responded correctly, do nothing. If the user responded incorrectly, show \"Incorrect\" in black letters and add a 1s time delay before going on to the next trial.\n",
    "    \n",
    "5.  Now, instead of waiting for a response forever, let's implement a timeout. Show accuracy feedback as before, show \"Too slow\" if the user takes more than 1.5 secs to respond.\n",
    "\n",
    "6. Introduce *incongruent* trials by showing words in the \"wrong\" color, e.g., \"yellow\" printed in green. To do this, define a function called `make_incongruent()` which takes in a color as an argument and returns one of the other colors in `stimuli` that's different from the one being passed in. Then set the color word's color to this new value, thereby creating an incongruent trial. "
   ]
  }
 ],
 "metadata": {
  "celltoolbar": "Edit Metadata",
  "kernelspec": {
   "display_name": "Python 3 (ipykernel)",
   "language": "python",
   "name": "python3"
  },
  "language_info": {
   "codemirror_mode": {
    "name": "ipython",
    "version": 3
   },
   "file_extension": ".py",
   "mimetype": "text/x-python",
   "name": "python",
   "nbconvert_exporter": "python",
   "pygments_lexer": "ipython3",
   "version": "3.8.13"
  },
  "toc": {
   "nav_menu": {},
   "number_sections": true,
   "sideBar": true,
   "skip_h1_title": false,
   "toc_cell": true,
   "toc_position": {
    "height": "526px",
    "left": "0px",
    "right": "922px",
    "top": "111px",
    "width": "358px"
   },
   "toc_section_display": "block",
   "toc_window_display": true
  },
  "vscode": {
   "interpreter": {
    "hash": "57beecaf6908bae4f97de5e2dc8e8d0311fae5bc989593c172c307d13e31f6e4"
   }
  }
 },
 "nbformat": 4,
 "nbformat_minor": 2
}
