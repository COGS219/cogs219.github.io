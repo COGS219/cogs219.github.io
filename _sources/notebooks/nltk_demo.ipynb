{
 "cells": [
  {
   "cell_type": "markdown",
   "metadata": {},
   "source": [
    "# Intro to NLTK\n",
    "\n",
    "A whirlwind tour of Python's natural language toolkit (NLTK).\n",
    "\n",
    "We'll start by importing a few libraries and opening up a sample text file: Jane Austen's Pride and Prejudice.\n",
    "\n",
    "If you get import errors, use `pip` to install the missing package (`pip install package_name`)."
   ]
  },
  {
   "cell_type": "code",
   "execution_count": 2,
   "metadata": {},
   "outputs": [],
   "source": [
    "import nltk\n",
    "import urllib\n",
    "from nltk.corpus import gutenberg\n",
    "from nltk.text import Text\n",
    "\n",
    "pride_prejudice = urllib.request.urlopen(\"https://cogs219.github.io/data/pride_prejudice.txt\").read().decode()"
   ]
  },
  {
   "cell_type": "code",
   "execution_count": 3,
   "metadata": {},
   "outputs": [
    {
     "name": "stdout",
     "output_type": "stream",
     "text": [
      "PRIDE AND PREJUDICE\n",
      "\n",
      "By Jane Austen\n",
      "\n",
      "\n",
      "\n",
      "Chapter 1\n",
      "\n",
      "\n",
      "It is a truth universally acknowledged, that a single man in possession\n",
      "of a good fortune, must be in want of a wife.\n",
      "\n",
      "However little known the feelings or views of such a man may be on his\n",
      "first entering a neighbourhood, this truth is so well fixed in the minds\n",
      "of the surrounding families, that he is considered the rightful property\n",
      "of some one or other of their daughters.\n",
      "\n",
      "\"My dear Mr. Bennet,\" said his lady to him one day, \"h\n"
     ]
    }
   ],
   "source": [
    "print(pride_prejudice[0:500])\n"
   ]
  },
  {
   "cell_type": "markdown",
   "metadata": {},
   "source": [
    "Now let's tokenize and lowercase the text."
   ]
  },
  {
   "cell_type": "code",
   "execution_count": null,
   "metadata": {},
   "outputs": [
    {
     "name": "stderr",
     "output_type": "stream",
     "text": [
      "[nltk_data] Downloading package punkt_tab to\n",
      "[nltk_data]     /Users/martincz/nltk_data...\n",
      "[nltk_data]   Unzipping tokenizers/punkt_tab.zip.\n"
     ]
    },
    {
     "name": "stdout",
     "output_type": "stream",
     "text": [
      "Original tokens (first 100):\n",
      "['PRIDE', 'AND', 'PREJUDICE', 'By', 'Jane', 'Austen', 'Chapter', '1', 'It', 'is', 'a', 'truth', 'universally', 'acknowledged', ',', 'that', 'a', 'single', 'man', 'in', 'possession', 'of', 'a', 'good', 'fortune', ',', 'must', 'be', 'in', 'want', 'of', 'a', 'wife', '.', 'However', 'little', 'known', 'the', 'feelings', 'or', 'views', 'of', 'such', 'a', 'man', 'may', 'be', 'on', 'his', 'first', 'entering', 'a', 'neighbourhood', ',', 'this', 'truth', 'is', 'so', 'well', 'fixed', 'in', 'the', 'minds', 'of', 'the', 'surrounding', 'families', ',', 'that', 'he', 'is', 'considered', 'the', 'rightful', 'property', 'of', 'some', 'one', 'or', 'other', 'of', 'their', 'daughters', '.', '``', 'My', 'dear', 'Mr.', 'Bennet', ',', \"''\", 'said', 'his', 'lady', 'to', 'him', 'one', 'day', ',', '``']\n",
      "Lowercased tokens (first 100):\n",
      "['pride', 'and', 'prejudice', 'by', 'jane', 'austen', 'chapter', '1', 'it', 'is', 'a', 'truth', 'universally', 'acknowledged', ',', 'that', 'a', 'single', 'man', 'in', 'possession', 'of', 'a', 'good', 'fortune', ',', 'must', 'be', 'in', 'want', 'of', 'a', 'wife', '.', 'however', 'little', 'known', 'the', 'feelings', 'or', 'views', 'of', 'such', 'a', 'man', 'may', 'be', 'on', 'his', 'first', 'entering', 'a', 'neighbourhood', ',', 'this', 'truth', 'is', 'so', 'well', 'fixed', 'in', 'the', 'minds', 'of', 'the', 'surrounding', 'families', ',', 'that', 'he', 'is', 'considered', 'the', 'rightful', 'property', 'of', 'some', 'one', 'or', 'other', 'of', 'their', 'daughters', '.', '``', 'my', 'dear', 'mr.', 'bennet', ',', \"''\", 'said', 'his', 'lady', 'to', 'him', 'one', 'day', ',', '``']\n"
     ]
    }
   ],
   "source": [
    "#run the download command once\n",
    "#nltk.download('punkt_tab')\n",
    "pride_prejudice_raw_tokens = nltk.word_tokenize(pride_prejudice)\n",
    "print( \"Original tokens (first 100):\")\n",
    "print(pride_prejudice_raw_tokens[:100])\n",
    "\n",
    "#lowercase \n",
    "pride_prejudice_raw_tokens = [token.lower() for token in pride_prejudice_raw_tokens]\n",
    "print( \"Lowercased tokens (first 100):\")\n",
    "print( pride_prejudice_raw_tokens[:100])\n"
   ]
  },
  {
   "cell_type": "markdown",
   "metadata": {},
   "source": [
    "Now let's remove punctuation"
   ]
  },
  {
   "cell_type": "code",
   "execution_count": 16,
   "metadata": {},
   "outputs": [
    {
     "name": "stdout",
     "output_type": "stream",
     "text": [
      "Clean yokens (first 100). Now without punctuation:\n",
      "['pride', 'and', 'prejudice', 'by', 'jane', 'austen', 'chapter', 'it', 'is', 'a', 'truth', 'universally', 'acknowledged', 'that', 'a', 'single', 'man', 'in', 'possession', 'of', 'a', 'good', 'fortune', 'must', 'be', 'in', 'want', 'of', 'a', 'wife', 'however', 'little', 'known', 'the', 'feelings', 'or', 'views', 'of', 'such', 'a', 'man', 'may', 'be', 'on', 'his', 'first', 'entering', 'a', 'neighbourhood', 'this', 'truth', 'is', 'so', 'well', 'fixed', 'in', 'the', 'minds', 'of', 'the', 'surrounding', 'families', 'that', 'he', 'is', 'considered', 'the', 'rightful', 'property', 'of', 'some', 'one', 'or', 'other', 'of', 'their', 'daughters', 'my', 'dear', 'bennet', 'said', 'his', 'lady', 'to', 'him', 'one', 'day', 'have', 'you', 'heard', 'that', 'netherfield', 'park', 'is', 'let', 'at', 'last', 'bennet', 'replied', 'that']\n"
     ]
    }
   ],
   "source": [
    "pride_prejudice_clean_tokens = [token.lower() for token in pride_prejudice_raw_tokens if token.isalpha()]\n",
    "print( \"Clean yokens (first 100). Now without punctuation:\")\n",
    "print(pride_prejudice_clean_tokens[:100])\n"
   ]
  },
  {
   "cell_type": "markdown",
   "metadata": {},
   "source": [
    "## Frequency Distributions\n",
    "\n",
    "The first thing we'll do is build a frequency distribution using `nltk.FreqDist()`\n"
   ]
  },
  {
   "cell_type": "code",
   "execution_count": 21,
   "metadata": {},
   "outputs": [],
   "source": [
    "pride_prejudice_freq_dist = nltk.FreqDist(pride_prejudice_clean_tokens)"
   ]
  },
  {
   "cell_type": "markdown",
   "metadata": {},
   "source": [
    "`pride_prejudice_freq_dist` is formatted as a Python dictionary -- nothing special here, but the nice thing is that FreqDist implements various methods we can use to compute and quickly plot various properties of the text."
   ]
  },
  {
   "cell_type": "code",
   "execution_count": 22,
   "metadata": {},
   "outputs": [
    {
     "data": {
      "text/plain": [
       "FreqDist({'the': 4331, 'to': 4137, 'of': 3608, 'and': 3578, 'her': 2203, 'i': 2065, 'a': 1947, 'in': 1865, 'was': 1844, 'she': 1695, ...})"
      ]
     },
     "execution_count": 22,
     "metadata": {},
     "output_type": "execute_result"
    }
   ],
   "source": [
    "pride_prejudice_freq_dist"
   ]
  },
  {
   "cell_type": "markdown",
   "metadata": {},
   "source": [
    "How many tokens are there?\n",
    "\n",
    "`.N()` gives us the total number of words -- the tokens. (N standa for Number)\n",
    "\n",
    "`.B()` gives us the number of unique words -- the types. (B stands for Bins)\n"
   ]
  },
  {
   "cell_type": "code",
   "execution_count": 25,
   "metadata": {},
   "outputs": [
    {
     "name": "stdout",
     "output_type": "stream",
     "text": [
      "Token count: 120033\n",
      "Type count: 6191\n",
      "Occurences of 'darcy': 417\n",
      "Occurences of 'love': 91\n",
      "Occurences of 'money': 26\n",
      "Tokens that end in -ed: 4947\n",
      "Types that end in -ed: 860\n"
     ]
    },
    {
     "data": {
      "text/plain": [
       "<matplotlib.axes._subplots.AxesSubplot at 0x1737e9360>"
      ]
     },
     "execution_count": 25,
     "metadata": {},
     "output_type": "execute_result"
    },
    {
     "data": {
      "image/png": "[encoded data removed]",
      "text/plain": [
       "<Figure size 640x480 with 1 Axes>"
      ]
     },
     "metadata": {},
     "output_type": "display_data"
    }
   ],
   "source": [
    "print (\"Token count:\", pride_prejudice_freq_dist.N())\n",
    "print (\"Type count:\", pride_prejudice_freq_dist.B())\n",
    "\n",
    "# We can get the frequency of a word by treating the FreqDist as a dictionary and looking up a word\n",
    "print (\"Occurences of 'darcy':\", pride_prejudice_freq_dist['darcy'])\n",
    "print (\"Occurences of 'love':\", pride_prejudice_freq_dist['love'])\n",
    "print (\"Occurences of 'money':\", pride_prejudice_freq_dist['money'])\n",
    "\n",
    "# Find out how many tokens end in -ed\n",
    "# We just ask for the length of the list of tokens\n",
    "# that end in -ed\n",
    "print( \"Tokens that end in -ed:\", len([token for token in pride_prejudice_clean_tokens if token.endswith('ed')]))\n",
    "\n",
    "# If we want the number of types, we can use the keys of the\n",
    "# FreqDist\n",
    "print (\"Types that end in -ed:\", len([word_type for word_type in pride_prejudice_freq_dist if word_type.endswith('ed')]))\n",
    "\n",
    "pride_prejudice_freq_dist.plot(30)"
   ]
  },
  {
   "cell_type": "markdown",
   "metadata": {},
   "source": [
    "## Removing stop words\n",
    "\n",
    "Stop words is jargon for very frequent words that tend to be not very informative as to the meaning of the text. For example, we can't learn much about an English text from knowing that it has the words \"a\", \"the\", and \"to\" in it...  These frequent words dominate frequency distributions and so are often removed as part of pre-processing. NLTK has a collection of stop-words for English (other languages too!)"
   ]
  },
  {
   "cell_type": "code",
   "execution_count": null,
   "metadata": {},
   "outputs": [
    {
     "name": "stderr",
     "output_type": "stream",
     "text": [
      "[nltk_data] Downloading package stopwords to\n",
      "[nltk_data]     /Users/martincz/nltk_data...\n",
      "[nltk_data]   Unzipping corpora/stopwords.zip.\n"
     ]
    },
    {
     "name": "stdout",
     "output_type": "stream",
     "text": [
      "['a', 'about', 'above', 'after', 'again', 'against', 'ain', 'all', 'am', 'an', 'and', 'any', 'are', 'aren', \"aren't\", 'as', 'at', 'be', 'because', 'been', 'before', 'being', 'below', 'between', 'both', 'but', 'by', 'can', 'couldn', \"couldn't\", 'd', 'did', 'didn', \"didn't\", 'do', 'does', 'doesn', \"doesn't\", 'doing', 'don', \"don't\", 'down', 'during', 'each', 'few', 'for', 'from', 'further', 'had', 'hadn', \"hadn't\", 'has', 'hasn', \"hasn't\", 'have', 'haven', \"haven't\", 'having', 'he', \"he'd\", \"he'll\", 'her', 'here', 'hers', 'herself', \"he's\", 'him', 'himself', 'his', 'how', 'i', \"i'd\", 'if', \"i'll\", \"i'm\", 'in', 'into', 'is', 'isn', \"isn't\", 'it', \"it'd\", \"it'll\", \"it's\", 'its', 'itself', \"i've\", 'just', 'll', 'm', 'ma', 'me', 'mightn', \"mightn't\", 'more', 'most', 'mustn', \"mustn't\", 'my', 'myself', 'needn', \"needn't\", 'no', 'nor', 'not', 'now', 'o', 'of', 'off', 'on', 'once', 'only', 'or', 'other', 'our', 'ours', 'ourselves', 'out', 'over', 'own', 're', 's', 'same', 'shan', \"shan't\", 'she', \"she'd\", \"she'll\", \"she's\", 'should', 'shouldn', \"shouldn't\", \"should've\", 'so', 'some', 'such', 't', 'than', 'that', \"that'll\", 'the', 'their', 'theirs', 'them', 'themselves', 'then', 'there', 'these', 'they', \"they'd\", \"they'll\", \"they're\", \"they've\", 'this', 'those', 'through', 'to', 'too', 'under', 'until', 'up', 've', 'very', 'was', 'wasn', \"wasn't\", 'we', \"we'd\", \"we'll\", \"we're\", 'were', 'weren', \"weren't\", \"we've\", 'what', 'when', 'where', 'which', 'while', 'who', 'whom', 'why', 'will', 'with', 'won', \"won't\", 'wouldn', \"wouldn't\", 'y', 'you', \"you'd\", \"you'll\", 'your', \"you're\", 'yours', 'yourself', 'yourselves', \"you've\"]\n"
     ]
    }
   ],
   "source": [
    "#run the download command once\n",
    "#nltk.download('stopwords')\n",
    "from nltk.corpus import stopwords\n",
    "print(stopwords.words('english'))\n",
    "\n",
    "\n",
    "#remove them\n",
    "pride_prejudice_clean_tokens_no_stop_words = [word for word in pride_prejudice_clean_tokens if word not in stopwords.words('english')]\n"
   ]
  },
  {
   "cell_type": "markdown",
   "metadata": {},
   "source": [
    "### A detour into runtime considerations\n",
    "Notice that removing stop-words from just a single book took on the order of 10 seconds (!). Why is that?\n",
    "Suppose we want to process a 1000 books. At this rate, we're talking about nearly 3 hours of run-time! That seems wildly inefficient. What's going on? Take a little bit of time and figure out a much faster way of doing this. Removing stopwrds in this way will decrease your runtime drastically."
   ]
  },
  {
   "cell_type": "markdown",
   "metadata": {},
   "source": [
    "Let's get the frequency distribution of words with the stop words removed:\n",
    "\n"
   ]
  },
  {
   "cell_type": "code",
   "execution_count": 29,
   "metadata": {},
   "outputs": [
    {
     "data": {
      "text/plain": [
       "<matplotlib.axes._subplots.AxesSubplot at 0x173925ea0>"
      ]
     },
     "execution_count": 29,
     "metadata": {},
     "output_type": "execute_result"
    },
    {
     "data": {
      "image/png": "[encoded data removed]",
      "text/plain": [
       "<Figure size 640x480 with 1 Axes>"
      ]
     },
     "metadata": {},
     "output_type": "display_data"
    }
   ],
   "source": [
    "pride_prejudice_clean_tokens_no_stop_words_fd =  nltk.FreqDist(pride_prejudice_clean_tokens_no_stop_words)\n",
    "pride_prejudice_clean_tokens_no_stop_words_fd.plot(40)\n"
   ]
  },
  {
   "cell_type": "markdown",
   "metadata": {},
   "source": [
    "A handy method inside FreqDist is `most_common`:"
   ]
  },
  {
   "cell_type": "code",
   "execution_count": 30,
   "metadata": {},
   "outputs": [
    {
     "data": {
      "text/plain": [
       "[('elizabeth', 635),\n",
       " ('could', 525),\n",
       " ('would', 468),\n",
       " ('darcy', 417),\n",
       " ('said', 401),\n",
       " ('much', 326),\n",
       " ('bennet', 323),\n",
       " ('must', 305),\n",
       " ('bingley', 305),\n",
       " ('jane', 292)]"
      ]
     },
     "execution_count": 30,
     "metadata": {},
     "output_type": "execute_result"
    }
   ],
   "source": [
    "pride_prejudice_clean_tokens_no_stop_words_fd.most_common(10)\n"
   ]
  },
  {
   "cell_type": "markdown",
   "metadata": {},
   "source": [
    "## Concordances\n",
    "\n",
    "Concordances are the context in which a word is used. To calculate these, we can use NLTK's [Text module](https://www.nltk.org/api/nltk.text.html)"
   ]
  },
  {
   "cell_type": "code",
   "execution_count": 33,
   "metadata": {},
   "outputs": [
    {
     "name": "stdout",
     "output_type": "stream",
     "text": [
      "Displaying 12 of 12 matches:\n",
      "t not doing its office . '' `` your picture may be very exact , louisa , '' sai\n",
      "nt lines . as for your elizabeth 's picture , you must not have it taken , for \n",
      " mr. collins was a most humiliating picture ! and to the pang of a friend disgr\n",
      "nd obliging . it was mr. collins 's picture of hunsford and rosings rationally \n",
      " elizabeth laughed heartily at this picture of herself , and said to colonel fi\n",
      " ; but it appeared to her so just a picture of mr. darcy , that she would not t\n",
      "er aunt now called her to look at a picture . she approached and saw the likene\n",
      "me forward , and told them it was a picture of a young gentleman , the son of h\n",
      "said mrs. gardiner , looking at the picture ; `` it is a handsome face . but , \n",
      "tairs you will see a finer , larger picture of him than this . this room was my\n",
      "he stood several minutes before the picture , in earnest contemplation , and re\n",
      "earance , or his resemblance to the picture they had just been examining , been\n",
      "None\n"
     ]
    }
   ],
   "source": [
    "print(Text(pride_prejudice_raw_tokens).concordance(\"picture\"))\n"
   ]
  },
  {
   "cell_type": "markdown",
   "metadata": {},
   "source": [
    "## N-grams and their frequencies\n",
    "\n",
    "N-grams are word sequences of n-length. For example, 2-grams (typically called bigrams) are 2 word combinations (e.g., they have, I was, red ball) that occur in a text. 3-grams (trigrams) are all the 3-word combinations. To compute them, use nltk's bigram and trigram modules\n"
   ]
  },
  {
   "cell_type": "code",
   "execution_count": 37,
   "metadata": {
    "tags": [
     "hide-output"
    ]
   },
   "outputs": [
    {
     "data": {
      "text/plain": [
       "[(('lady', 'catherine'), 115),\n",
       " (('miss', 'bingley'), 87),\n",
       " (('miss', 'bennet'), 65),\n",
       " (('said', 'elizabeth'), 45),\n",
       " (('sir', 'william'), 44),\n",
       " (('miss', 'darcy'), 39),\n",
       " (('de', 'bourgh'), 39),\n",
       " (('young', 'man'), 38),\n",
       " (('dare', 'say'), 31),\n",
       " (('colonel', 'fitzwilliam'), 30),\n",
       " (('colonel', 'forster'), 28),\n",
       " (('elizabeth', 'could'), 26),\n",
       " (('said', 'bennet'), 25),\n",
       " (('young', 'ladies'), 25),\n",
       " (('miss', 'lucas'), 25),\n",
       " (('cried', 'elizabeth'), 24),\n",
       " (('great', 'deal'), 23),\n",
       " (('uncle', 'aunt'), 23),\n",
       " (('went', 'away'), 21),\n",
       " (('could', 'help'), 20)]"
      ]
     },
     "execution_count": 37,
     "metadata": {},
     "output_type": "execute_result"
    }
   ],
   "source": [
    "import nltk.collocations as collocations\n",
    "from nltk import FreqDist, bigrams, trigrams\n",
    "\n",
    "#compute bigrams and their frequencies\n",
    "bigram_freqs = nltk.FreqDist(nltk.bigrams(pride_prejudice_clean_tokens_no_stop_words))\n",
    "\n",
    "bigram_freqs.most_common(20)\n",
    "\n",
    "\n"
   ]
  },
  {
   "cell_type": "markdown",
   "metadata": {},
   "source": [
    "We can also look at trigrams, but with just a single book this is not going to be very effective. Notice that even the most frequent trigrams aren't observed very often!\n",
    "\n",
    "```{note}\n",
    "To compute n-grams beyond 3, you can use nltk.ngrams, but for small corpora like those of a book (or even a 100 books), you'll find that the vast majority will only occur once, and so there's nothing to work with... \n",
    "``` "
   ]
  },
  {
   "cell_type": "code",
   "execution_count": 45,
   "metadata": {},
   "outputs": [
    {
     "name": "stdout",
     "output_type": "stream",
     "text": [
      "[(('miss', 'de', 'bourgh'), 20), (('lady', 'catherine', 'de'), 14), (('catherine', 'de', 'bourgh'), 14), (('sir', 'william', 'lucas'), 10), (('said', 'miss', 'bingley'), 10), (('hurst', 'miss', 'bingley'), 9), (('lady', 'catherine', 'daughter'), 8), (('ten', 'thousand', 'pounds'), 6), (('miss', 'elizabeth', 'bennet'), 5), (('ten', 'thousand', 'year'), 4), (('dear', 'said', 'bennet'), 4), (('miss', 'bennet', 'came'), 4), (('may', 'depend', 'upon'), 4), (('could', 'think', 'nothing'), 4), (('elizabeth', 'could', 'help'), 4), (('elizabeth', 'made', 'answer'), 4), (('could', 'think', 'without'), 4), (('without', 'saying', 'word'), 4), (('lady', 'catherine', 'seemed'), 4), (('since', 'went', 'away'), 4)]\n"
     ]
    }
   ],
   "source": [
    "\n",
    "trigram_freqs = nltk.FreqDist(nltk.trigrams(pride_prejudice_clean_tokens_no_stop_words))\n",
    "print(trigram_freqs.most_common(20))\n",
    "\n",
    "\n"
   ]
  },
  {
   "cell_type": "markdown",
   "metadata": {},
   "source": [
    "Let's look at the most frequent trigrams in a slightly larger corpus: NLTK's Project Gutenberg. Project Gutenberg contains the text of many out-of-copyright books and you can download all of them. NLTK bundles a handful: "
   ]
  },
  {
   "cell_type": "code",
   "execution_count": 52,
   "metadata": {
    "tags": []
   },
   "outputs": [
    {
     "name": "stdout",
     "output_type": "stream",
     "text": [
      "['austen-emma.txt', 'austen-persuasion.txt', 'austen-sense.txt', 'bible-kjv.txt', 'blake-poems.txt', 'bryant-stories.txt', 'burgess-busterbrown.txt', 'carroll-alice.txt', 'chesterton-ball.txt', 'chesterton-brown.txt', 'chesterton-thursday.txt', 'edgeworth-parents.txt', 'melville-moby_dick.txt', 'milton-paradise.txt', 'shakespeare-caesar.txt', 'shakespeare-hamlet.txt', 'shakespeare-macbeth.txt', 'whitman-leaves.txt']\n"
     ]
    },
    {
     "name": "stderr",
     "output_type": "stream",
     "text": [
      "[nltk_data] Downloading package gutenberg to\n",
      "[nltk_data]     /Users/martincz/nltk_data...\n",
      "[nltk_data]   Package gutenberg is already up-to-date!\n"
     ]
    }
   ],
   "source": [
    "nltk.download('gutenberg')\n",
    "print(nltk.corpus.gutenberg.fileids())\n"
   ]
  },
  {
   "cell_type": "markdown",
   "metadata": {},
   "source": [
    "Any idea what the most common trigrams are if we combine all of these books into a single corpus?"
   ]
  },
  {
   "cell_type": "code",
   "execution_count": 58,
   "metadata": {
    "tags": [
     "hide-output"
    ]
   },
   "outputs": [
    {
     "name": "stdout",
     "output_type": "stream",
     "text": [
      "[(('of', 'the', 'lord'), 1780), (('the', 'son', 'of'), 1466), (('the', 'children', 'of'), 1368), (('out', 'of', 'the'), 1202), (('the', 'house', 'of'), 917), (('saith', 'the', 'lord'), 854), (('the', 'lord', 'and'), 818), (('and', 'i', 'will'), 764), (('and', 'all', 'the'), 697), (('children', 'of', 'israel'), 647), (('the', 'land', 'of'), 626), (('the', 'sons', 'of'), 574), (('and', 'the', 'lord'), 572), (('and', 'he', 'said'), 526), (('unto', 'the', 'lord'), 510), (('the', 'king', 'of'), 500), (('the', 'lord', 'god'), 481), (('it', 'came', 'to'), 474), (('came', 'to', 'pass'), 461), (('said', 'unto', 'him'), 454), (('of', 'the', 'house'), 435), (('thus', 'saith', 'the'), 430), (('and', 'they', 'shall'), 427), (('and', 'thou', 'shalt'), 422), (('one', 'of', 'the'), 419), (('the', 'hand', 'of'), 409), (('the', 'name', 'of'), 407), (('of', 'the', 'earth'), 404), (('and', 'it', 'came'), 400), (('and', 'in', 'the'), 397)]\n"
     ]
    }
   ],
   "source": [
    "\n",
    "some_books = nltk.corpus.gutenberg.words()\n",
    "\n",
    "some_books_clean = [token.lower() for token in some_books if token.isalpha()]\n",
    "trigram_freqs = nltk.FreqDist(nltk.trigrams(some_books_clean))\n",
    "print(trigram_freqs.most_common(30))\n",
    "\n"
   ]
  },
  {
   "cell_type": "markdown",
   "metadata": {},
   "source": [
    "## Collocations\n",
    "\n",
    "Bigrams and trigrams are simply all the pairs (and triplets) of words that occur sequentially. The most frequent ones are... more frequent, but part of the reason they're more frequent is that their *individual* words are more frequent. \n",
    "\n",
    "Here's an example of getting collocations -- combinations of words that are unlikely to appear together, but do (and so are important). \n",
    "(more and more complex examples [here](https://www.nltk.org/howto/collocations.html))"
   ]
  },
  {
   "cell_type": "code",
   "execution_count": 63,
   "metadata": {},
   "outputs": [
    {
     "data": {
      "text/plain": [
       "[('lady', 'catherine'),\n",
       " ('sir', 'william'),\n",
       " ('miss', 'bingley'),\n",
       " ('colonel', 'fitzwilliam'),\n",
       " ('miss', 'bennet'),\n",
       " ('colonel', 'forster'),\n",
       " ('dare', 'say'),\n",
       " ('young', 'man'),\n",
       " ('thousand', 'pounds'),\n",
       " ('great', 'deal'),\n",
       " ('uncle', 'aunt'),\n",
       " ('young', 'ladies'),\n",
       " ('went', 'away'),\n",
       " ('miss', 'lucas'),\n",
       " ('next', 'morning'),\n",
       " ('miss', 'darcy'),\n",
       " ('depend', 'upon'),\n",
       " ('gracechurch', 'street'),\n",
       " ('made', 'answer'),\n",
       " ('soon', 'afterwards')]"
      ]
     },
     "execution_count": 63,
     "metadata": {},
     "output_type": "execute_result"
    }
   ],
   "source": [
    "Text(pride_prejudice_clean_tokens_no_stop_words).collocation_list()"
   ]
  },
  {
   "cell_type": "markdown",
   "metadata": {},
   "source": [
    "Let's compare it to the collocations from Alice in Wonderland. We'll tokenize in a slightly different way here, as an added example."
   ]
  },
  {
   "cell_type": "code",
   "execution_count": 67,
   "metadata": {},
   "outputs": [
    {
     "data": {
      "text/plain": [
       "[('mock', 'turtle'),\n",
       " ('march', 'hare'),\n",
       " ('said', 'alice'),\n",
       " ('white', 'rabbit'),\n",
       " ('join', 'dance'),\n",
       " ('soo', 'oop'),\n",
       " ('minute', 'two'),\n",
       " ('said', 'king'),\n",
       " ('beg', 'pardon'),\n",
       " ('beautiful', 'soup'),\n",
       " ('thought', 'alice'),\n",
       " ('bread', 'butter'),\n",
       " ('golden', 'key'),\n",
       " ('said', 'caterpillar'),\n",
       " ('set', 'work'),\n",
       " ('kid', 'gloves'),\n",
       " ('said', 'hatter'),\n",
       " ('beau', 'ootiful'),\n",
       " ('mary', 'ann'),\n",
       " ('yer', 'honour')]"
      ]
     },
     "execution_count": 67,
     "metadata": {},
     "output_type": "execute_result"
    }
   ],
   "source": [
    "alice_raw = nltk.corpus.gutenberg.raw('carroll-alice.txt')\n",
    "\n",
    "alice_tokenizer = nltk.tokenize.RegexpTokenizer('\\w+') #can put in whatever regexp you want here\n",
    "alice_tokenized = alice_tokenizer.tokenize(alice_raw)\n",
    "alice_tokenized = [token.lower() for token in alice_tokenized if token not in stopwords.words('english')]\n",
    "\n",
    "alice_clean =  [token.lower() for token in alice_tokenized if token not in stopwords.words('english')]\n",
    "\n",
    "Text(alice_clean).collocation_list()\n"
   ]
  },
  {
   "cell_type": "markdown",
   "metadata": {},
   "source": [
    "If we compare the collocations to the most common bigrams, we see that the collocations are more informative."
   ]
  },
  {
   "cell_type": "code",
   "execution_count": 70,
   "metadata": {},
   "outputs": [
    {
     "data": {
      "text/plain": [
       "[(('said', 'alice'), 123),\n",
       " (('mock', 'turtle'), 56),\n",
       " (('march', 'hare'), 31),\n",
       " (('said', 'king'), 29),\n",
       " (('thought', 'alice'), 26),\n",
       " (('white', 'rabbit'), 22),\n",
       " (('said', 'hatter'), 22),\n",
       " (('said', 'mock'), 20),\n",
       " (('said', 'caterpillar'), 18),\n",
       " (('said', 'gryphon'), 18),\n",
       " (('alice', 'said'), 17),\n",
       " (('said', 'duchess'), 15),\n",
       " (('said', 'cat'), 14),\n",
       " (('alice', 'thought'), 13),\n",
       " (('said', 'queen'), 13),\n",
       " (('minute', 'two'), 12),\n",
       " (('poor', 'alice'), 11),\n",
       " (('alice', 'could'), 11),\n",
       " (('king', 'said'), 11),\n",
       " (('oh', 'dear'), 10),\n",
       " (('said', 'march'), 10),\n",
       " (('poor', 'little'), 9),\n",
       " (('might', 'well'), 9),\n",
       " (('alice', 'went'), 9),\n",
       " (('said', 'mouse'), 9),\n",
       " (('alice', 'replied'), 9),\n",
       " (('alice', 'looked'), 9),\n",
       " (('said', 'dormouse'), 9),\n",
       " (('join', 'dance'), 9),\n",
       " (('little', 'thing'), 8)]"
      ]
     },
     "execution_count": 70,
     "metadata": {},
     "output_type": "execute_result"
    }
   ],
   "source": [
    "nltk.FreqDist(nltk.bigrams(alice_clean)).most_common(30)\n"
   ]
  },
  {
   "cell_type": "markdown",
   "metadata": {},
   "source": [
    "## Lemmatization\n",
    "\n",
    "A lemma is the base form of a word. It is what would typically be used as an entry in an English dictionary. Lemmatization refers to grouping together words that are inflectional variants of the same lemma: (go,went), (read, reading, reads), (cat, cats), etc..  "
   ]
  },
  {
   "cell_type": "code",
   "execution_count": null,
   "metadata": {},
   "outputs": [
    {
     "name": "stdout",
     "output_type": "stream",
     "text": [
      "cats : cat\n",
      "corpora : corpus\n",
      "says : say\n",
      "went : went\n",
      "leaves : leaf\n"
     ]
    }
   ],
   "source": [
    "#download wordnet on first run\n",
    "#nltk.download('wordnet')\n",
    "from nltk import WordNetLemmatizer\n",
    "\n",
    "lemmatizer = nltk.WordNetLemmatizer()\n",
    "\n",
    "print(\"cats :\", lemmatizer.lemmatize(\"cats\"))\n",
    "print(\"corpora :\", lemmatizer.lemmatize(\"corpora\"))\n",
    "print(\"says :\", lemmatizer.lemmatize(\"says\"))\n",
    "print(\"went :\", lemmatizer.lemmatize(\"went\"))\n",
    "print(\"leaves :\", lemmatizer.lemmatize(\"leaves\"))\n",
    "\n"
   ]
  },
  {
   "cell_type": "markdown",
   "metadata": {},
   "source": [
    "Ok, so we can see a few problems here. First, went stayed as went. And \"leaves\" was matched to \"leaf\" whereas I was thinking of \"leaves\" as in a person leaves the room. The reason is that the WordNetLemmatizer has limitations. It defaults to treating words as nouns (with some exceptions). We can, however, pass it a part of speech as an argument:\n",
    "\n",
    "```{note}\n",
    "For the wordnet lemmatizer, the possible parts of speech are: n for noun, v for verb, a for adjective, r for adverb, s for satellite adjective\n",
    "```"
   ]
  },
  {
   "cell_type": "code",
   "execution_count": null,
   "metadata": {},
   "outputs": [
    {
     "name": "stdout",
     "output_type": "stream",
     "text": [
      "went : go\n",
      "leaves : leave\n",
      "redder : red\n"
     ]
    }
   ],
   "source": [
    "\n",
    "print(\"went :\", lemmatizer.lemmatize(\"went\",pos=\"v\"))\n",
    "print(\"leaves :\", lemmatizer.lemmatize(\"leaves\",pos=\"v\"))\n",
    "print(\"redder :\", lemmatizer.lemmatize(\"redder\",pos=\"a\"))\n",
    "\n"
   ]
  },
  {
   "cell_type": "markdown",
   "metadata": {},
   "source": [
    "What use is lemmatization if we have to manually tell it what part of speech something is? Well, we don't have to do it *manually*. If we're processing words in context, we can use NLTK's [automatic Part of Speech Tagging](https://www.nltk.org/book/ch05.html) instead!  "
   ]
  },
  {
   "cell_type": "markdown",
   "metadata": {},
   "source": [
    "## WordNet\n",
    "\n",
    "NLTK has a handy [interface to WordNet](https://www.nltk.org/howto/wordnet.html). Here's an example of using it to automatically classify some animals into classe (mammals, birds, etc.). See [more examples here](https://www.nltk.org/howto/wordnet.html).\n",
    "\n",
    "\n",
    "Let's import the wordnet module and look up some words."
   ]
  },
  {
   "cell_type": "code",
   "execution_count": 75,
   "metadata": {},
   "outputs": [
    {
     "name": "stdout",
     "output_type": "stream",
     "text": [
      "[Synset('table.n.01'), Synset('table.n.02'), Synset('table.n.03'), Synset('mesa.n.01'), Synset('table.n.05'), Synset('board.n.04'), Synset('postpone.v.01'), Synset('table.v.02')]\n",
      "\n",
      "\n",
      "[Synset('horse.n.01'), Synset('horse.n.02'), Synset('cavalry.n.01'), Synset('sawhorse.n.01'), Synset('knight.n.02'), Synset('horse.v.01')]\n",
      "\n",
      "\n",
      "[Synset('pressure.n.01'), Synset('pressure.n.02'), Synset('press.n.09'), Synset('imperativeness.n.01'), Synset('pressure.n.05'), Synset('pressure.n.06'), Synset('atmospheric_pressure.n.01'), Synset('coerce.v.01'), Synset('blackmail.v.01')]\n",
      "\n",
      "\n",
      "[Synset('return.n.06'), Synset('take.n.02'), Synset('take.v.01'), Synset('take.v.02'), Synset('lead.v.01'), Synset('take.v.04'), Synset('assume.v.03'), Synset('take.v.06'), Synset('bring.v.01'), Synset('take.v.08'), Synset('take.v.09'), Synset('choose.v.01'), Synset('accept.v.02'), Synset('fill.v.04'), Synset('consider.v.03'), Synset('necessitate.v.01'), Synset('take.v.15'), Synset('film.v.01'), Synset('remove.v.01'), Synset('consume.v.02'), Synset('take.v.19'), Synset('take.v.20'), Synset('take.v.21'), Synset('assume.v.05'), Synset('accept.v.05'), Synset('take.v.24'), Synset('learn.v.04'), Synset('claim.v.05'), Synset('take.v.27'), Synset('aim.v.01'), Synset('take.v.29'), Synset('carry.v.02'), Synset('lease.v.04'), Synset('subscribe.v.05'), Synset('take.v.33'), Synset('take.v.34'), Synset('take.v.35'), Synset('claim.v.04'), Synset('accept.v.08'), Synset('contain.v.05'), Synset('take.v.39'), Synset('drive.v.16'), Synset('take.v.41'), Synset('contract.v.04')]\n"
     ]
    }
   ],
   "source": [
    "from nltk.corpus import wordnet as wn\n",
    "\n",
    "print(wn.synsets('table'))\n",
    "print('\\n')\n",
    "print(wn.synsets('horse'))\n",
    "print('\\n')\n",
    "print(wn.synsets('pressure'))\n",
    "print('\\n')\n",
    "print(wn.synsets('take'))\n"
   ]
  },
  {
   "cell_type": "markdown",
   "metadata": {},
   "source": [
    "What is all this stuff? Each entry (synset) is a different sense of the word. We can look up specific synsets to see what they're about, e.g. let's iterate over the synsets for \"table\""
   ]
  },
  {
   "cell_type": "code",
   "execution_count": 88,
   "metadata": {},
   "outputs": [
    {
     "name": "stdout",
     "output_type": "stream",
     "text": [
      "Synset('table.n.01') a set of data arranged in rows and columns\n",
      "Synset('table.n.02') a piece of furniture having a smooth flat top that is usually supported by one or more vertical legs\n",
      "Synset('table.n.03') a piece of furniture with tableware for a meal laid out on it\n",
      "Synset('mesa.n.01') flat tableland with steep edges\n",
      "Synset('table.n.05') a company of people assembled at a table for a meal or game\n",
      "Synset('board.n.04') food or meals in general\n",
      "Synset('postpone.v.01') hold back to a later time\n",
      "Synset('table.v.02') arrange or enter in tabular form\n"
     ]
    }
   ],
   "source": [
    "\n",
    "for cur_synset in wn.synsets('table'):\n",
    "    print(cur_synset,cur_synset.definition())\n",
    "\n"
   ]
  },
  {
   "cell_type": "markdown",
   "metadata": {},
   "source": [
    "The \"syn\" part of \"synset\" stands for synonym. A key part of WordNet's organization is how it links word meanings (synsets) to word forms (lemmas)."
   ]
  },
  {
   "cell_type": "code",
   "execution_count": 97,
   "metadata": {},
   "outputs": [
    {
     "name": "stdout",
     "output_type": "stream",
     "text": [
      "Synset('alligator.n.01') leather made from alligator's hide\n",
      "Synset('alligator.n.02') either of two amphibious reptiles related to crocodiles but with shorter broader snouts\n",
      "Synset('alligator.v.01') crack and acquire the appearance of alligator hide, as from weathering or improper application; of paint and varnishes\n"
     ]
    }
   ],
   "source": [
    "for cur_synset in wn.synsets('alligator'):\n",
    "    print(cur_synset,cur_synset.definition())\n"
   ]
  },
  {
   "cell_type": "markdown",
   "metadata": {},
   "source": [
    "Notice that the second entry is not paper, but composition. What this means is that the second noun sense of \"paper\" has several lemmas. Let's confirm:   "
   ]
  },
  {
   "cell_type": "code",
   "execution_count": 105,
   "metadata": {},
   "outputs": [
    {
     "name": "stdout",
     "output_type": "stream",
     "text": [
      "[Lemma('composition.n.08.composition'), Lemma('composition.n.08.paper'), Lemma('composition.n.08.report'), Lemma('composition.n.08.theme')]\n"
     ]
    }
   ],
   "source": [
    "print(wn.synset('paper.n.02').lemmas())\n"
   ]
  },
  {
   "cell_type": "markdown",
   "metadata": {},
   "source": [
    "These meanings are the same, but are parts of different synsets:"
   ]
  },
  {
   "cell_type": "code",
   "execution_count": 112,
   "metadata": {},
   "outputs": [
    {
     "name": "stdout",
     "output_type": "stream",
     "text": [
      "an essay (especially one written as an assignment)\n",
      "an essay (especially one written as an assignment)\n"
     ]
    }
   ],
   "source": [
    "print(wn.synset('paper.n.02').definition())\n",
    "print(wn.synset('composition.n.08').definition())\n",
    "\n"
   ]
  },
  {
   "cell_type": "markdown",
   "metadata": {},
   "source": [
    "### Antonyms and entailments"
   ]
  },
  {
   "cell_type": "code",
   "execution_count": 118,
   "metadata": {},
   "outputs": [
    {
     "name": "stdout",
     "output_type": "stream",
     "text": [
      "[Lemma('low.a.01.low')]\n",
      "[Lemma('poor.a.02.poor')]\n",
      "[Synset('step.v.01')]\n",
      "[Synset('swallow.v.01'), Synset('chew.v.01')]\n"
     ]
    }
   ],
   "source": [
    "print(wn.synset('high.a.01').lemmas()[0].antonyms())\n",
    "print(wn.synset('rich.a.01').lemmas()[0].antonyms())\n",
    "\n",
    "print(wn.synset('walk.v.01').entailments())\n",
    "print(wn.synset('eat.v.01').entailments())\n"
   ]
  },
  {
   "cell_type": "markdown",
   "metadata": {},
   "source": [
    "### Looking up the class of an animal -- quick case study"
   ]
  },
  {
   "cell_type": "code",
   "execution_count": 123,
   "metadata": {},
   "outputs": [],
   "source": [
    "\n",
    "#from nltk.stem import WordNetLemmatize\n",
    "#lemmatiser = WordNetLemmatizer()\n",
    "\n",
    "def make_singular_and_lemmatize(response,pos=\"n\"): #lemmatize nouns. If the repsonse has multiple words, lemmatize just the last word\n",
    "    if '(' in response:\n",
    "        response = response.split('(')[0:-1]\n",
    "        response = ' '.join(response)\n",
    "        response = response.rstrip()\n",
    "    response = response.split(' ')\n",
    "    singular = lemmatiser.lemmatize(response[-1], pos=pos)\n",
    "    if len(response)==1:\n",
    "        return str(singular).replace(' ','_')\n",
    "    else:\n",
    "        response = ' '.join((' '.join(response[0:-1]),singular)).replace(' ','_')\n",
    "        return response\n",
    "\n",
    "\n",
    "def make_synset(word, category='n', number='01'):\n",
    "    \"\"\"Make a synset\"\"\"\n",
    "    number = int(number)\n",
    "    try:\n",
    "        return wn.synset('%s.%s.%02i' % (word, category, number))\n",
    "    except:\n",
    "        return word\n",
    "           \n",
    "def _recurse_all_hypernyms(synset, all_hypernyms):\n",
    "    synset_hypernyms = synset.hypernyms()\n",
    "    if synset_hypernyms:\n",
    "        all_hypernyms += synset_hypernyms\n",
    "        for hypernym in synset_hypernyms:\n",
    "            _recurse_all_hypernyms(hypernym, all_hypernyms)\n",
    "\n",
    "def all_hypernyms(synset,return_what='synset'):\n",
    "    \"\"\"Get the set of hypernyms of the hypernym of the synset etc.\n",
    "       Nouns can have multiple hypernyms, so we can't just create a depth-sorted\n",
    "       list. If return_what is set to lemmas (or something other than synset), return the lemmas instead of a list of synset,\n",
    "    return. Else return a list of synsets \"\"\"\n",
    "    hypernyms = []\n",
    "    if type(synset)==str:\n",
    "        return set(())\n",
    "    _recurse_all_hypernyms(synset, hypernyms)\n",
    "    if return_what!='synset':\n",
    "        hypernyms = [cur_synset.lemma_names()[0] for cur_synset in hypernyms]\n",
    "    return list(set(hypernyms))\n",
    "\n",
    "\n"
   ]
  },
  {
   "cell_type": "code",
   "execution_count": 130,
   "metadata": {},
   "outputs": [
    {
     "data": {
      "text/plain": [
       "['whole',\n",
       " 'physical_entity',\n",
       " 'organism',\n",
       " 'vertebrate',\n",
       " 'diapsid',\n",
       " 'chordate',\n",
       " 'entity',\n",
       " 'object',\n",
       " 'reptile',\n",
       " 'animal',\n",
       " 'living_thing',\n",
       " 'crocodilian_reptile']"
      ]
     },
     "execution_count": 130,
     "metadata": {},
     "output_type": "execute_result"
    }
   ],
   "source": [
    "all_hypernyms(make_synset('alligator',number=2),return_what=\"lemmas\")"
   ]
  },
  {
   "cell_type": "code",
   "execution_count": 133,
   "metadata": {},
   "outputs": [
    {
     "name": "stdout",
     "output_type": "stream",
     "text": [
      "{'mammal'}\n",
      "{'bird'}\n",
      "{'reptile'}\n",
      "{'reptile'}\n"
     ]
    }
   ],
   "source": [
    "classes = set(['mammal','bird','reptile','insect','amphibian','arthropod'])\n",
    "\n",
    "print(classes.intersection(all_hypernyms(make_synset('dog'),return_what=\"lemmas\")))\n",
    "print(classes.intersection(all_hypernyms(make_synset('sparrow'),return_what=\"lemmas\")))\n",
    "print(classes.intersection(all_hypernyms(make_synset('dinosaur'),return_what=\"lemmas\")))\n",
    "print(classes.intersection(all_hypernyms(make_synset('alligator',number=2),return_what=\"lemmas\")))\n"
   ]
  },
  {
   "cell_type": "code",
   "execution_count": 135,
   "metadata": {},
   "outputs": [
    {
     "data": {
      "text/plain": [
       "Synset('alligator.n.01')"
      ]
     },
     "execution_count": 135,
     "metadata": {},
     "output_type": "execute_result"
    }
   ],
   "source": [
    "make_synset('alligator')"
   ]
  }
 ],
 "metadata": {
  "kernelspec": {
   "display_name": "base",
   "language": "python",
   "name": "python3"
  },
  "language_info": {
   "codemirror_mode": {
    "name": "ipython",
    "version": 3
   },
   "file_extension": ".py",
   "mimetype": "text/x-python",
   "name": "python",
   "nbconvert_exporter": "python",
   "pygments_lexer": "ipython3",
   "version": "3.10.13"
  },
  "orig_nbformat": 4
 },
 "nbformat": 4,
 "nbformat_minor": 2
}
