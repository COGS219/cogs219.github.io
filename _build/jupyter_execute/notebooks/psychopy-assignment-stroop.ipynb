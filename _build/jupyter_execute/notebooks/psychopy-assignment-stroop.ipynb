{
 "cells": [
  {
   "cell_type": "markdown",
   "metadata": {},
   "source": [
    "# Psychopy Assignment: The stroop effect\n",
    "\n",
    "To work on this assignment, please create a GitHub folder called `stroop-experiment` and create a .py file called `stroop.py` using the starter code below.\n",
    "\n",
    "Then, for each task, please create (at least) one separate GitHub commit so that I can see your history of updating your code base.\n",
    "\n",
    "Solution code is provided beneath each exercise, but I encourage you to first try to figure out the code and experiment a bit at each step yourself, knowing that you can always \"check\" the correct answer at any point. The more you practice actually trying to generate (and type out) the code, the more effective the assignment will be at building your psychopy skills.\n",
    "\n",
    "In this exercise we'll put some of what we've learned so far together into an simple experiment demonstrating the <a href=\"https://en.wikipedia.org/wiki/Stroop_effect/\" target=\"_blank\">Stroop Effect</a>. We'll gradually build this codebase out into a full experiment."
   ]
  },
  {
   "cell_type": "code",
   "execution_count": null,
   "metadata": {
    "tags": [
     "remove-output"
    ]
   },
   "outputs": [],
   "source": [
    "import time\n",
    "import sys\n",
    "import random\n",
    "from psychopy import visual,event,core,gui\n",
    "\n",
    "stimuli = ['red', 'orange', 'yellow', 'green', 'blue']\n",
    "\n",
    "win = visual.Window([800,600],color=\"gray\", units='pix',checkTiming=False)\n",
    "placeholder = visual.Rect(win,width=180,height=80, fillColor=\"lightgray\",lineColor=\"black\", lineWidth=6,pos=[0,0])\n",
    "word_stim = visual.TextStim(win,text=\"\", height=40, color=\"black\",pos=[0,0])\n",
    "instruction = visual.TextStim(win,text=\"Press the first letter of the ink color\", height=20, color=\"black\",pos=[0,-200])\n",
    "while True:\n",
    "    cur_stim = random.choice(stimuli)\n",
    "    word_stim.setText(cur_stim)\n",
    "    word_stim.setColor(cur_stim)\n",
    "    placeholder.draw()\n",
    "    instruction.draw()\n",
    "    word_stim.draw()\n",
    "    win.flip()\n",
    "    core.wait(1.0)\n",
    "    placeholder.draw()\n",
    "    instruction.draw()    \n",
    "    win.flip()\n",
    "    core.wait(.15)\n",
    "\n",
    "    if event.getKeys(['q']):\n",
    "        win.close()\n",
    "        core.quit()"
   ]
  },
  {
   "cell_type": "markdown",
   "metadata": {},
   "source": [
    "Once you've successfully run this code and understand what all the lines do, proceed to the following exercises."
   ]
  },
  {
   "cell_type": "markdown",
   "metadata": {},
   "source": [
    "## Psychopy Assignment Tasks\n",
    "\n",
    "1.  Create a fixation cross using a TextStim object `visual.TextStim` set text to \"+\" and color to \"black\" and height to 15. Make the fixation cross appear for 500 ms before each color word, and disappear right before the color word appears, with another 500 ms inter-stimulus interval between the fixation cross and the word."
   ]
  },
  {
   "cell_type": "code",
   "execution_count": null,
   "metadata": {
    "tags": [
     "hide-input",
     "remove-output"
    ]
   },
   "outputs": [],
   "source": [
    "#add fixation cross to the top of the script (before the while loop)\n",
    "fixation = visual.TextStim(win,height=40,color=\"black\",text=\"+\")"
   ]
  },
  {
   "cell_type": "code",
   "execution_count": null,
   "metadata": {
    "tags": [
     "hide-input",
     "remove-output"
    ]
   },
   "outputs": [],
   "source": [
    "#new while loop\n",
    "#add fixation cross\n",
    "while True:\n",
    "    cur_stim = random.choice(stimuli)\n",
    "    word_stim.setText(cur_stim)\n",
    "    word_stim.setColor(cur_stim)\n",
    "    placeholder.draw()\n",
    "    instruction.draw()\n",
    "    fixation.draw()\n",
    "    win.flip()\n",
    "    core.wait(.5)\n",
    "    placeholder.draw()\n",
    "    instruction.draw()\n",
    "    win.flip()\n",
    "    core.wait(.5)\n",
    "    placeholder.draw()\n",
    "    instruction.draw()\n",
    "    word_stim.draw()\n",
    "    win.flip()\n",
    "    core.wait(1.0)\n",
    "    placeholder.draw()\n",
    "    instruction.draw()    \n",
    "    win.flip()\n",
    "    core.wait(.15)\n",
    "\n",
    "    if event.getKeys(['q']):\n",
    "        win.close()\n",
    "        core.quit()"
   ]
  },
  {
   "cell_type": "markdown",
   "metadata": {},
   "source": [
    "2. Use the <a href=\"https://www.psychopy.org/coder/codeStimuli.html\" target=\"_blank\">autoDraw</a> functionality to automatically draw the `instruction` for every window flip. This simplifies the code above quite a bit!"
   ]
  },
  {
   "cell_type": "code",
   "execution_count": null,
   "metadata": {
    "tags": [
     "hide-input",
     "remove-output"
    ]
   },
   "outputs": [],
   "source": [
    "#add autoDraw to instruction\n",
    "instruction = visual.TextStim(win,text=\"Press the first letter of the ink color\", height=20, color=\"black\",pos=[0,-200],autoDraw=True)"
   ]
  },
  {
   "cell_type": "code",
   "execution_count": null,
   "metadata": {
    "tags": [
     "hide-input",
     "remove-output"
    ]
   },
   "outputs": [],
   "source": [
    "#new while loop\n",
    "#remove instruction.draw() since this is now automatically drawn!\n",
    "while True:\n",
    "    cur_stim = random.choice(stimuli)\n",
    "    word_stim.setText(cur_stim)\n",
    "    word_stim.setColor(cur_stim)\n",
    "    placeholder.draw()\n",
    "    fixation.draw()\n",
    "    win.flip()\n",
    "    core.wait(.5)\n",
    "    placeholder.draw()\n",
    "    win.flip()\n",
    "    core.wait(.5)\n",
    "    placeholder.draw()\n",
    "    word_stim.draw()\n",
    "    win.flip()\n",
    "    core.wait(1.0)\n",
    "    placeholder.draw()   \n",
    "    win.flip()\n",
    "    core.wait(.15)\n",
    "\n",
    "    if event.getKeys(['q']):\n",
    "        win.close()\n",
    "        core.quit()"
   ]
  },
  {
   "cell_type": "markdown",
   "metadata": {},
   "source": [
    "3. Rather than cycling throught the colors, use `event.waitKeys()` to wait for a response (e.g., \"o\" for \"orange\").  Your script should only accept 'r', 'o', 'y', 'g', 'b' (the first letter of each color) and -- to make testing easier for you -- 'q' for quit. \n",
    "    ```{tip}\n",
    "    Make sure your code has just the functionality it needs, e.g., for part 2, you don't need `event.getKeys(['q'])`\n",
    "    ```"
   ]
  },
  {
   "cell_type": "code",
   "execution_count": null,
   "metadata": {
    "tags": [
     "hide-input",
     "remove-output"
    ]
   },
   "outputs": [],
   "source": [
    "# define valid response keys to the top of the script (before the while loop)\n",
    "valid_response_keys = ['r', 'o', 'y', 'g', 'b','q']"
   ]
  },
  {
   "cell_type": "code",
   "execution_count": null,
   "metadata": {
    "tags": [
     "hide-input",
     "remove-output"
    ]
   },
   "outputs": [],
   "source": [
    "#add event.waitKeys to the while loop\n",
    "#replace the event.getKeys call with a check of whether the key pressed is a 'q'\n",
    "while True:\n",
    "    cur_stim = random.choice(stimuli)\n",
    "    word_stim.setText(cur_stim)\n",
    "    word_stim.setColor(cur_stim)\n",
    "    placeholder.draw()\n",
    "    fixation.draw()\n",
    "    win.flip()\n",
    "    core.wait(.5)\n",
    "    placeholder.draw()\n",
    "    win.flip()\n",
    "    core.wait(.5)\n",
    "    placeholder.draw()\n",
    "    word_stim.draw()\n",
    "    win.flip()\n",
    "    key_pressed = event.waitKeys(keyList=valid_response_keys)\n",
    "    print(key_pressed[0])\n",
    "\n",
    "    if key_pressed[0] == 'q':\n",
    "        break"
   ]
  },
  {
   "cell_type": "markdown",
   "metadata": {},
   "source": [
    "4. Compute the reaction times -- the time it takes to respond from when the color word appears, to when the user presses a key, in milleconds (e.g., .8 secs should show up as 800). Store these in a list called `RTs`. (<a href=\"http://www.psychopy.org/api/core.html\" target=\"_blank\">Use psychopy timers</a>)\n",
    "    ```{tip}\n",
    "    Append each reaction time to the `RTs` list after every response\n",
    "    ```\n",
    "\n",
    "    Print the list to verify that the reaction times are correct (e.g., if you take approx 1 second to respond, is it recording 1000?). Your submitted code should have this print statement."
   ]
  },
  {
   "cell_type": "code",
   "execution_count": null,
   "metadata": {
    "tags": [
     "hide-input",
     "remove-output"
    ]
   },
   "outputs": [],
   "source": [
    "#update to while loop portion\n",
    "RTs=[] #set RT list\n",
    "response_timer = core.Clock() # set response timer clock\n",
    "key_pressed=False #initializing this for later\n",
    "while True:\n",
    "    cur_stim = random.choice(stimuli)\n",
    "    word_stim.setText(cur_stim)\n",
    "    word_stim.setColor(cur_stim)\n",
    "    placeholder.draw()\n",
    "    fixation.draw()\n",
    "    win.flip()\n",
    "    core.wait(.5)\n",
    "    placeholder.draw()\n",
    "    win.flip()\n",
    "    core.wait(.5)\n",
    "    placeholder.draw()\n",
    "    word_stim.draw()\n",
    "    win.flip()\n",
    "    response_timer.reset() # immediately after win.flip(), reset clock to measure RT\n",
    "    key_pressed = event.waitKeys(keyList=valid_response_keys)\n",
    "    RTs.append(round(response_timer.getTime()*1000,0)) #add an RT to the list, rounded to the nearest millisecond\n",
    "\n",
    "    if key_pressed[0] == 'q':\n",
    "        break\n",
    "\n",
    "print(RTs)"
   ]
  },
  {
   "cell_type": "markdown",
   "metadata": {},
   "source": [
    "5.  Now let's implement some feedback. If the user responded correctly, do nothing. If the user responded incorrectly, show \"Incorrect\" in black letters and add a 1s time delay before going on to the next trial."
   ]
  },
  {
   "cell_type": "code",
   "execution_count": null,
   "metadata": {
    "tags": [
     "hide-input",
     "remove-output"
    ]
   },
   "outputs": [],
   "source": [
    "# add a new feedback TextStim before the while loop\n",
    "feedback_incorrect = visual.TextStim(win,text=\"INCORRECT\", height=40, color=\"black\",pos=[0,0])"
   ]
  },
  {
   "cell_type": "code",
   "execution_count": null,
   "metadata": {
    "tags": [
     "remove-output",
     "hide-input"
    ]
   },
   "outputs": [],
   "source": [
    "#add feedback after collecting the response and RT\n",
    "if key_pressed[0] == cur_stim[0]:\n",
    "    #correct response\n",
    "    pass\n",
    "elif key_pressed[0] == 'q':\n",
    "    break\n",
    "else:\n",
    "    feedback_incorrect.draw()\n",
    "    win.flip()\n",
    "    core.wait(1)"
   ]
  },
  {
   "cell_type": "markdown",
   "metadata": {},
   "source": [
    "6.  Now, instead of waiting for a response forever, let's implement a timeout. Show accuracy feedback as before, show \"Too slow\" if the user takes more than 2 secs to respond."
   ]
  },
  {
   "cell_type": "code",
   "execution_count": null,
   "metadata": {
    "tags": [
     "remove-output",
     "hide-input"
    ]
   },
   "outputs": [],
   "source": [
    "#add 'too slow' feedback before the while loop\n",
    "feedback_too_slow = visual.TextStim(win,text=\"TOO SLOW\", height=40, color=\"black\",pos=[0,0])"
   ]
  },
  {
   "cell_type": "code",
   "execution_count": null,
   "metadata": {
    "tags": [
     "remove-output",
     "hide-input"
    ]
   },
   "outputs": [],
   "source": [
    "#full while loop\n",
    "RTs=[] #set RT list\n",
    "response_timer = core.Clock() # set response timer clock\n",
    "key_pressed=False #need to initialize this for later\n",
    "while True:\n",
    "    cur_stim = random.choice(stimuli)\n",
    "    word_stim.setText(cur_stim)\n",
    "    word_stim.setColor(cur_stim)\n",
    "    placeholder.draw()\n",
    "    fixation.draw()\n",
    "    win.flip()\n",
    "    core.wait(.5)\n",
    "    placeholder.draw()\n",
    "    win.flip()\n",
    "    core.wait(.5)\n",
    "    placeholder.draw()\n",
    "    word_stim.draw()  \n",
    "    win.flip()\n",
    "    response_timer.reset() # immediately after win.flip(), reset clock to measure RT\n",
    "    key_pressed = event.waitKeys(keyList=valid_response_keys,maxWait=2) # maximum wait time of 2 s\n",
    "    # add feedback\n",
    "    # if key_pressed is still FALSE/ no response was registered, present too slow feedback\n",
    "    if not key_pressed:\n",
    "        feedback_too_slow.draw()\n",
    "        win.flip()\n",
    "        core.wait(1)\n",
    "    elif key_pressed[0] == cur_stim[0]: #elif statement\n",
    "        #correct response\n",
    "        pass\n",
    "    elif key_pressed[0] == 'q':\n",
    "        break\n",
    "    else:\n",
    "        feedback_incorrect.draw()\n",
    "        win.flip()\n",
    "        core.wait(1)\n",
    "    RTs.append(round(response_timer.getTime()*1000,0)) #add an RT to the list, rounded to the nearest millisecond"
   ]
  },
  {
   "cell_type": "markdown",
   "metadata": {},
   "source": [
    "7. Introduce *incongruent* trials by showing words in the \"wrong\" color, e.g., \"yellow\" printed in green. To do this, define a function called `make_incongruent()` which takes in a color as an argument and returns one of the other colors in `stimuli` that's different from the one being passed in. Then set the color word's color to this new value, thereby creating an incongruent trial. "
   ]
  },
  {
   "cell_type": "code",
   "execution_count": null,
   "metadata": {
    "tags": [
     "remove-output",
     "hide-input"
    ]
   },
   "outputs": [],
   "source": [
    "#define a function to make colors incongurent\n",
    "def make_incongruent(color):\n",
    "    possible_incongruent_colors = [stimulus for stimulus in stimuli if stimulus != color]\n",
    "    incongruent_color = random.choice(possible_incongruent_colors)\n",
    "    return incongruent_color"
   ]
  },
  {
   "cell_type": "code",
   "execution_count": null,
   "metadata": {},
   "outputs": [],
   "source": [
    "#update how the text and color are set for the key stimulus\n",
    "cur_word = random.choice(stimuli) #notice the change in variable name now that we have congruent and incongruent trials\n",
    "trial_type = random.choice(trial_types) #we're just going to randomly pick the trial type (so it's 50/50 congruent/incongruent)\n",
    "\n",
    "word_stim.setText(cur_word) #set text\n",
    "if trial_type == 'incongruent':\n",
    "    cur_color = make_incongruent(cur_word)\n",
    "else:\n",
    "    cur_color = cur_word\n",
    "#notice that at this point cur_color is the color we're gonna set the word to. \n",
    "#It's taking into account the trial type \n",
    "word_stim.setColor(cur_color) #set color"
   ]
  },
  {
   "cell_type": "markdown",
   "metadata": {},
   "source": [
    "8. **CHECKPOINT**\n",
    "\n",
    "The full code should now look like the code below."
   ]
  },
  {
   "cell_type": "code",
   "execution_count": null,
   "metadata": {
    "tags": [
     "hide-input",
     "remove-output"
    ]
   },
   "outputs": [],
   "source": [
    "import time\n",
    "import sys\n",
    "import random\n",
    "from psychopy import visual,event,core,gui\n",
    "\n",
    "stimuli = ['red', 'orange', 'yellow', 'green', 'blue']\n",
    "valid_response_keys = ['r', 'o', 'y', 'g', 'b','q']\n",
    "trial_types = ['congruent','incongruent']\n",
    "\n",
    "def make_incongruent(color):\n",
    "    possible_incongruent_colors = [stimulus for stimulus in stimuli if stimulus != color]\n",
    "    incongruent_color = random.choice(possible_incongruent_colors)\n",
    "    return incongruent_color\n",
    "\n",
    "win = visual.Window([800,600],color=\"gray\", units='pix',checkTiming=False)\n",
    "placeholder = visual.Rect(win,width=180,height=80, fillColor=\"lightgray\",lineColor=\"black\", lineWidth=6,pos=[0,0])\n",
    "word_stim = visual.TextStim(win,text=\"\", height=40, color=\"black\",pos=[0,0])\n",
    "instruction = visual.TextStim(win,text=\"Press the first letter of the ink color\", height=20, color=\"black\",pos=[0,-200],autoDraw=True)\n",
    "#add fixation cross\n",
    "fixation = visual.TextStim(win,height=40,color=\"black\",text=\"+\")\n",
    "# add a new feedback TextStim before the while loop\n",
    "feedback_incorrect = visual.TextStim(win,text=\"INCORRECT\", height=40, color=\"black\",pos=[0,0])\n",
    "feedback_too_slow = visual.TextStim(win,text=\"TOO SLOW\", height=40, color=\"black\",pos=[0,0])\n",
    "\n",
    "RTs=[] #set RT list\n",
    "response_timer = core.Clock() # set response timer clock\n",
    "key_pressed=False #need to initialize this for later\n",
    "while True:\n",
    "\n",
    "    cur_word = random.choice(stimuli) #notice the change in variable name now that we have congruent and incongruent trials\n",
    "    trial_type = random.choice(trial_types) #we're just going to randomly pick the trial type (so it's 50/50 congruent/incongruent)\n",
    "\n",
    "    word_stim.setText(cur_word) #set text\n",
    "    if trial_type == 'incongruent':\n",
    "        cur_color = make_incongruent(cur_word)\n",
    "    else:\n",
    "        cur_color = cur_word\n",
    "    #notice that at this point cur_color is the color we're gonna set the word to. \n",
    "    #It's taking into account the trial type \n",
    "    word_stim.setColor(cur_color) #set color\n",
    "\n",
    "    #show fixation\n",
    "    placeholder.draw()\n",
    "    fixation.draw()\n",
    "    win.flip()\n",
    "    core.wait(.5)\n",
    "\n",
    "    #short inter stimulus interval\n",
    "    placeholder.draw()\n",
    "    win.flip()\n",
    "    core.wait(.5)\n",
    "\n",
    "    #draw word stimulus\n",
    "    placeholder.draw()\n",
    "    word_stim.draw()\n",
    "    win.flip()\n",
    "\n",
    "    #get response\n",
    "    response_timer.reset() # immediately after win.flip(), reset clock to measure RT\n",
    "    key_pressed = event.waitKeys(keyList=valid_response_keys,maxWait=2) # maximum wait time of 2 s\n",
    "    RTs.append(round(response_timer.getTime()*1000,0)) #add an RT to the list, rounded to the nearest millisecond\n",
    "\n",
    "    # add feedback\n",
    "    # if key_pressed is still FALSE/ no response was registered, present too slow feedback\n",
    "    if not key_pressed:\n",
    "        feedback_too_slow.draw()\n",
    "        win.flip()\n",
    "        core.wait(1)\n",
    "    elif key_pressed[0] == cur_color[0]: # now\n",
    "        #correct response\n",
    "        pass\n",
    "    elif key_pressed[0] == 'q':\n",
    "        break\n",
    "    else:\n",
    "        feedback_incorrect.draw()\n",
    "        win.flip()\n",
    "        core.wait(1)\n",
    "\n",
    "print(RTs)"
   ]
  }
 ],
 "metadata": {
  "celltoolbar": "Edit Metadata",
  "kernelspec": {
   "display_name": "Python 3 (ipykernel)",
   "language": "python",
   "name": "python3"
  },
  "language_info": {
   "codemirror_mode": {
    "name": "ipython",
    "version": 3
   },
   "file_extension": ".py",
   "mimetype": "text/x-python",
   "name": "python",
   "nbconvert_exporter": "python",
   "pygments_lexer": "ipython3",
   "version": "3.8.13"
  },
  "toc": {
   "nav_menu": {},
   "number_sections": true,
   "sideBar": true,
   "skip_h1_title": false,
   "toc_cell": true,
   "toc_position": {
    "height": "526px",
    "left": "0px",
    "right": "922px",
    "top": "111px",
    "width": "358px"
   },
   "toc_section_display": "block",
   "toc_window_display": true
  },
  "vscode": {
   "interpreter": {
    "hash": "57beecaf6908bae4f97de5e2dc8e8d0311fae5bc989593c172c307d13e31f6e4"
   }
  }
 },
 "nbformat": 4,
 "nbformat_minor": 2
}