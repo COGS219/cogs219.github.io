{
 "cells": [
  {
   "cell_type": "markdown",
   "id": "239afcb4",
   "metadata": {},
   "source": [
    "Syllabus\n",
    "==="
   ]
  },
  {
   "cell_type": "markdown",
   "id": "eaeef15b",
   "metadata": {},
   "source": [
    "[Home](http://nbviewer.ipython.org/urls/raw.github.com/ehmatthes/intro_programming/master/notebooks/index.ipynb)"
   ]
  },
  {
   "cell_type": "markdown",
   "id": "902fb933",
   "metadata": {},
   "source": [
    "Introduction\n",
    "---\n",
    "- What is programming?\n",
    "- What is not programming?\n",
    "- what kinds of things can programmers build?"
   ]
  },
  {
   "cell_type": "markdown",
   "id": "30bcd2d1",
   "metadata": {},
   "source": [
    "Setting up our programming environment\n",
    "---\n",
    "- [Programming Environment](http://nbviewer.ipython.org/urls/raw.github.com/ehmatthes/intro_programming/master/notebooks/programming_environment.ipynb)\n",
    "    - Dual-booting Ubuntu\n",
    "    - Maintaining Ubuntu\n",
    "    - Configuring Ubuntu for Python 3.3"
   ]
  },
  {
   "cell_type": "markdown",
   "id": "6674b78b",
   "metadata": {},
   "source": [
    "Python Basics\n",
    "---\n",
    "- [Hello World](http://nbviewer.ipython.org/urls/raw.github.com/ehmatthes/intro_programming/master/notebooks/hello_world.ipynb)\n",
    "- [Variables, strings, and Numbers](http://nbviewer.ipython.org/urls/raw.github.com/ehmatthes/intro_programming/master/notebooks/var_string_num.ipynb)\n",
    "- [Lists and Tuples](http://nbviewer.ipython.org/urls/raw.github.com/ehmatthes/intro_programming/master/notebooks/lists_tuples.ipynb)\n",
    "- [Introducing Functions](http://nbviewer.ipython.org/urls/raw.github.com/ehmatthes/intro_programming/master/notebooks/introducing_functions.ipynb)\n",
    "- [If Statements](http://nbviewer.ipython.org/urls/raw.github.com/ehmatthes/intro_programming/master/notebooks/if_statements.ipynb)\n",
    "- [While Loops and Input](http://nbviewer.ipython.org/urls/raw.github.com/ehmatthes/intro_programming/master/notebooks/while_input.ipynb)\n",
    "- [Basic Terminal Apps](http://nbviewer.ipython.org/urls/raw.github.com/ehmatthes/intro_programming/master/notebooks/terminal_apps.ipynb)\n",
    "- [Dictionaries](http://nbviewer.ipython.org/urls/raw.github.com/ehmatthes/intro_programming/master/notebooks/dictionaries.ipynb)\n",
    "- [More Functions](http://nbviewer.ipython.org/urls/raw.github.com/ehmatthes/intro_programming/master/notebooks/more_functions.ipynb)\n",
    "- [Classes](http://nbviewer.ipython.org/urls/raw.github.com/ehmatthes/intro_programming/master/notebooks/classes.ipynb)\n",
    "- [Exceptions](http://nbviewer.ipython.org/urls/raw.github.com/ehmatthes/intro_programming/master/notebooks/exceptions.ipynb)\n",
    "- [Testing](http://nbviewer.ipython.org/urls/raw.github.com/ehmatthes/intro_programming/master/notebooks/testing.ipynb)"
   ]
  },
  {
   "cell_type": "markdown",
   "id": "414c260b",
   "metadata": {},
   "source": [
    "Projects in Python\n",
    "---\n",
    "- Text-based Adventure Game\n",
    "- Video Game\n",
    "    - 2-dimensional, straight-line motion game\n",
    "- Visualization\n",
    "    - see [Data is Beautiful](http://www.reddit.com/r/dataisbeautiful) for examples\n",
    "    - [Mapping Global Earthquake Activity](http://nbviewer.ipython.org/urls/raw.github.com/ehmatthes/intro_programming/master/notebooks/visualization_earthquakes.ipynb)\n",
    "- Simple web application\n",
    "    - for example, a blog that you can make posts to"
   ]
  },
  {
   "cell_type": "markdown",
   "id": "a8518046",
   "metadata": {},
   "source": [
    "- - -\n",
    "[Home](http://nbviewer.ipython.org/urls/raw.github.com/ehmatthes/intro_programming/master/notebooks/index.ipynb)"
   ]
  }
 ],
 "metadata": {},
 "nbformat": 4,
 "nbformat_minor": 5
}